{
 "cells": [
  {
   "cell_type": "code",
   "execution_count": 2,
   "id": "ab38bef6",
   "metadata": {},
   "outputs": [
    {
     "data": {
      "text/plain": [
       "array([-0.0382195 , -0.04029218, -0.01202787, -0.04734328], dtype=float32)"
      ]
     },
     "execution_count": 2,
     "metadata": {},
     "output_type": "execute_result"
    }
   ],
   "source": [
    "import gym\n",
    "from tensorflow import keras\n",
    "from tensorflow.keras import layers\n",
    "import tensorflow as tf\n",
    "import os\n",
    "import numpy as np\n",
    "import math\n",
    "import random\n",
    "import matplotlib as plt\n",
    "\n",
    "env = gym.make(\"CartPole-v1\")\n",
    "env.reset()\n"
   ]
  },
  {
   "cell_type": "code",
   "execution_count": 3,
   "id": "620ed407",
   "metadata": {},
   "outputs": [
    {
     "name": "stdout",
     "output_type": "stream",
     "text": [
      "4\n"
     ]
    }
   ],
   "source": [
    "in_shape = (env.observation_space.shape[0])\n",
    "print(in_shape)"
   ]
  },
  {
   "cell_type": "code",
   "execution_count": null,
   "id": "4ba896d5",
   "metadata": {},
   "outputs": [],
   "source": []
  },
  {
   "cell_type": "code",
   "execution_count": 4,
   "id": "2a63bae3",
   "metadata": {},
   "outputs": [],
   "source": [
    "class Agent: \n",
    "    def __init__(self, state_size, action_size):\n",
    "        self.weight_backup      = \"cartpole_weight.h5\"\n",
    "        self.state_size         = state_size\n",
    "        self.action_size        = action_size\n",
    "        #[[state, action], [...]]\n",
    "        self.store              = []\n",
    "        self.memory             = []\n",
    "        self.learning_rate      = 0.001\n",
    "        self.gamma              = 0.95\n",
    "        self.exploration_rate   = 1.0\n",
    "        self.exploration_min    = 0.01\n",
    "        self.exploration_decay  = 0.9999\n",
    "        self.model              = self._build_model()\n",
    "        \n",
    "    def _build_model(self):\n",
    "        #input: state\n",
    "        inputs = keras.Input(shape=self.state_size)\n",
    "        dense = layers.Dense(16)\n",
    "        x = dense(inputs)\n",
    "        x = layers.Dense(64, activation=\"relu\")(x)\n",
    "        x = layers.Dense(64, activation=\"relu\")(x)\n",
    "        x = layers.Dense(32, activation=\"relu\")(x)\n",
    "        #output excpected reward\n",
    "        outputs = layers.Dense(self.action_size, activation = \"linear\")(x)\n",
    "        model = keras.Model(inputs=inputs, outputs=outputs, name=\"cartpole-model\")  \n",
    "        model.compile(optimizer=\"Adam\", loss=\"mse\")\n",
    "        model.summary()\n",
    "        return model\n",
    "    \n",
    "    def update_memory(self, step):\n",
    "        #Format of step: [state(t), action taken while t, total reward G(t)]\n",
    "        self.memory.append(step)\n",
    "        \n",
    "    def take_action(self, state):\n",
    "        act_rew = {}\n",
    "        \n",
    "        \n",
    "        \"\"\"for i in range(self.action_size):\n",
    "            act_rew[i] = self.predict(state, i)\n",
    "        \"\"\"    \n",
    "        #action with best score\n",
    "        scores = self.predict(state)[0]\n",
    "        #print(scores)\n",
    "        action = np.argmax(scores)#max(act_rew, key=act_rew.get)\n",
    "        \n",
    "        #exploration (declinining with t)\n",
    "        if (random.random() <= self.exploration_rate):\n",
    "            \n",
    "            action = random.randint(0, self.action_size - 1)\n",
    "            #choose random exploration action\n",
    "            #action = random.choice(list(act_rew))\n",
    "            \n",
    "        if self.exploration_rate >= self.exploration_min:\n",
    "            self.exploration_rate *= self.exploration_decay\n",
    "            \n",
    "        return action\n",
    "    \n",
    "    def predict(self, state):\n",
    "        return self.model.predict(state.reshape(1, self.state_size))\n",
    "    \n",
    "    \n",
    "    def replay(self, epochs = 1):\n",
    "        #replay with memory\n",
    "        #calculate rewards\n",
    "        \n",
    "        #Bellman equation for infinite MDP's\n",
    "        #Q(s, a) = Q(s, a) + alpha(R(s, a) + y*maxQ(s', a) - Q(s, a))\n",
    "        self.model.fit(np.array(dataset), np.array(adj_rewards))\n",
    "\n",
    "        #self.memory = []\n",
    "    \n",
    "    def save_model(self):\n",
    "        self.model.save(\"proto.h5\")\n",
    "        \n",
    "    def load_model(self, name = \"proto.h5\"):\n",
    "        self.model = keras.models.load_model(name)"
   ]
  },
  {
   "cell_type": "code",
   "execution_count": 5,
   "id": "6db2c886",
   "metadata": {
    "scrolled": true
   },
   "outputs": [
    {
     "name": "stdout",
     "output_type": "stream",
     "text": [
      "Model: \"cartpole-model\"\n",
      "_________________________________________________________________\n",
      " Layer (type)                Output Shape              Param #   \n",
      "=================================================================\n",
      " input_1 (InputLayer)        [(None, 4)]               0         \n",
      "                                                                 \n",
      " dense (Dense)               (None, 16)                80        \n",
      "                                                                 \n",
      " dense_1 (Dense)             (None, 64)                1088      \n",
      "                                                                 \n",
      " dense_2 (Dense)             (None, 64)                4160      \n",
      "                                                                 \n",
      " dense_3 (Dense)             (None, 32)                2080      \n",
      "                                                                 \n",
      " dense_4 (Dense)             (None, 2)                 66        \n",
      "                                                                 \n",
      "=================================================================\n",
      "Total params: 7,474\n",
      "Trainable params: 7,474\n",
      "Non-trainable params: 0\n",
      "_________________________________________________________________\n"
     ]
    }
   ],
   "source": [
    "agent = Agent(env.observation_space.shape[0], env.action_space.n)"
   ]
  },
  {
   "cell_type": "code",
   "execution_count": 6,
   "id": "4bc84944",
   "metadata": {},
   "outputs": [],
   "source": [
    "#agent.load_model(\"proto.h5\")"
   ]
  },
  {
   "cell_type": "code",
   "execution_count": 8,
   "id": "7b64f775",
   "metadata": {
    "scrolled": true
   },
   "outputs": [
    {
     "ename": "NameError",
     "evalue": "name 'dataset' is not defined",
     "output_type": "error",
     "traceback": [
      "\u001b[1;31m---------------------------------------------------------------------------\u001b[0m",
      "\u001b[1;31mNameError\u001b[0m                                 Traceback (most recent call last)",
      "\u001b[1;32m~\\AppData\\Local\\Temp/ipykernel_15124/4238653761.py\u001b[0m in \u001b[0;36m<module>\u001b[1;34m\u001b[0m\n\u001b[0;32m     22\u001b[0m \u001b[1;33m\u001b[0m\u001b[0m\n\u001b[0;32m     23\u001b[0m         \u001b[1;32mif\u001b[0m \u001b[0mdone\u001b[0m\u001b[1;33m:\u001b[0m\u001b[1;33m\u001b[0m\u001b[1;33m\u001b[0m\u001b[0m\n\u001b[1;32m---> 24\u001b[1;33m             \u001b[0magent\u001b[0m\u001b[1;33m.\u001b[0m\u001b[0mreplay\u001b[0m\u001b[1;33m(\u001b[0m\u001b[1;33m)\u001b[0m\u001b[1;33m\u001b[0m\u001b[1;33m\u001b[0m\u001b[0m\n\u001b[0m\u001b[0;32m     25\u001b[0m             \u001b[0mprint\u001b[0m\u001b[1;33m(\u001b[0m\u001b[1;34mf\"e: {agent.exploration_rate}\"\u001b[0m\u001b[1;33m)\u001b[0m\u001b[1;33m\u001b[0m\u001b[1;33m\u001b[0m\u001b[0m\n\u001b[0;32m     26\u001b[0m             \u001b[0mprint\u001b[0m\u001b[1;33m(\u001b[0m\u001b[1;34mf\"Done after {index} steps\"\u001b[0m\u001b[1;33m)\u001b[0m\u001b[1;33m\u001b[0m\u001b[1;33m\u001b[0m\u001b[0m\n",
      "\u001b[1;32m~\\AppData\\Local\\Temp/ipykernel_15124/139764665.py\u001b[0m in \u001b[0;36mreplay\u001b[1;34m(self, epochs)\u001b[0m\n\u001b[0;32m     67\u001b[0m         \u001b[1;31m#Bellman equation for infinite MDP's\u001b[0m\u001b[1;33m\u001b[0m\u001b[1;33m\u001b[0m\u001b[0m\n\u001b[0;32m     68\u001b[0m         \u001b[1;31m#Q(s, a) = Q(s, a) + alpha(R(s, a) + y*maxQ(s', a) - Q(s, a))\u001b[0m\u001b[1;33m\u001b[0m\u001b[1;33m\u001b[0m\u001b[0m\n\u001b[1;32m---> 69\u001b[1;33m         \u001b[0mself\u001b[0m\u001b[1;33m.\u001b[0m\u001b[0mmodel\u001b[0m\u001b[1;33m.\u001b[0m\u001b[0mfit\u001b[0m\u001b[1;33m(\u001b[0m\u001b[0mnp\u001b[0m\u001b[1;33m.\u001b[0m\u001b[0marray\u001b[0m\u001b[1;33m(\u001b[0m\u001b[0mdataset\u001b[0m\u001b[1;33m)\u001b[0m\u001b[1;33m,\u001b[0m \u001b[0mnp\u001b[0m\u001b[1;33m.\u001b[0m\u001b[0marray\u001b[0m\u001b[1;33m(\u001b[0m\u001b[0madj_rewards\u001b[0m\u001b[1;33m)\u001b[0m\u001b[1;33m)\u001b[0m\u001b[1;33m\u001b[0m\u001b[1;33m\u001b[0m\u001b[0m\n\u001b[0m\u001b[0;32m     70\u001b[0m \u001b[1;33m\u001b[0m\u001b[0m\n\u001b[0;32m     71\u001b[0m         \u001b[1;31m#self.memory = []\u001b[0m\u001b[1;33m\u001b[0m\u001b[1;33m\u001b[0m\u001b[0m\n",
      "\u001b[1;31mNameError\u001b[0m: name 'dataset' is not defined"
     ]
    }
   ],
   "source": [
    "observation = env.reset()\n",
    "\n",
    "while True:\n",
    "    \n",
    "    observation = env.reset()\n",
    "    #env.render()\n",
    "    index = 0\n",
    "    \n",
    "    while True:\n",
    "        \n",
    "        episodes = []\n",
    "        action = agent.take_action(observation)\n",
    "        #print(next_action)\n",
    "        #print(next_action)\n",
    "        next_observation, reward, done, _ = env.step(action)\n",
    "        \n",
    "        step_rem = [observation, action, index]\n",
    "    \n",
    "        agent.update_memory(step_rem)\n",
    "        \n",
    "        observation = next_observation\n",
    "        \n",
    "        if done:\n",
    "            agent.replay()\n",
    "            print(f\"e: {agent.exploration_rate}\")\n",
    "            print(f\"Done after {index} steps\")\n",
    "            print(\"------------------------\")\n",
    "            break\n",
    "        else:    \n",
    "            index += 1 \n",
    "    if index > 400:\n",
    "        print(\"DONE\")\n",
    "        break\n",
    "            \n",
    "env.close()"
   ]
  },
  {
   "cell_type": "code",
   "execution_count": null,
   "id": "50c2013c",
   "metadata": {},
   "outputs": [],
   "source": []
  },
  {
   "cell_type": "code",
   "execution_count": null,
   "id": "d116116b",
   "metadata": {},
   "outputs": [],
   "source": [
    "agent.model.save(\"proto.h5\")"
   ]
  },
  {
   "cell_type": "code",
   "execution_count": null,
   "id": "1548b183",
   "metadata": {},
   "outputs": [],
   "source": [
    "env.action_space"
   ]
  },
  {
   "cell_type": "code",
   "execution_count": null,
   "id": "5923c9f3",
   "metadata": {},
   "outputs": [],
   "source": []
  },
  {
   "cell_type": "code",
   "execution_count": null,
   "id": "1cf7e643",
   "metadata": {},
   "outputs": [],
   "source": []
  }
 ],
 "metadata": {
  "kernelspec": {
   "display_name": "Python 3 (ipykernel)",
   "language": "python",
   "name": "python3"
  },
  "language_info": {
   "codemirror_mode": {
    "name": "ipython",
    "version": 3
   },
   "file_extension": ".py",
   "mimetype": "text/x-python",
   "name": "python",
   "nbconvert_exporter": "python",
   "pygments_lexer": "ipython3",
   "version": "3.9.7"
  }
 },
 "nbformat": 4,
 "nbformat_minor": 5
}
